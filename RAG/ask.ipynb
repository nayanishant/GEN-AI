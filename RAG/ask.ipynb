{
 "cells": [
  {
   "cell_type": "code",
   "execution_count": 14,
   "metadata": {},
   "outputs": [
    {
     "data": {
      "text/plain": [
       "True"
      ]
     },
     "execution_count": 14,
     "metadata": {},
     "output_type": "execute_result"
    }
   ],
   "source": [
    "import chromadb\n",
    "from langchain_google_genai import ChatGoogleGenerativeAI\n",
    "import os\n",
    "from dotenv import load_dotenv\n",
    "\n",
    "load_dotenv()\n",
    "\n",
    "# os.environ['GEMINI_API_KEY'] = getpass.getpass('Gemini API Key:')"
   ]
  },
  {
   "cell_type": "code",
   "execution_count": 15,
   "metadata": {},
   "outputs": [],
   "source": [
    "# Setting the environment\n",
    "DATA_PATH = r\"data\"\n",
    "CHROMA_DB = r\"chroma_db\"\n",
    "\n",
    "chroma_client = chromadb.PersistentClient(path=CHROMA_DB)\n",
    "\n",
    "collection = chroma_client.get_or_create_collection(name=\"growing_vegetable\")   "
   ]
  },
  {
   "cell_type": "code",
   "execution_count": 18,
   "metadata": {},
   "outputs": [
    {
     "name": "stdout",
     "output_type": "stream",
     "text": [
      "Documents:  [['more frequent irrigation than clay, muck or amended \\nsoils. Conserve water by using mulch, organic matter, and \\ntechniques such as drip irrigation. Make a slight depression \\nat the base of plants to hold water until absorbed by the soil.\\nPest Management', 'rework the soil into a smooth, firm surface.\\nOrGanic Matter\\nMost Florida soils benefit from the addition of organic \\nmatter, such as animal manure, rotted leaves, compost, \\ncommerical soil mixes, and cover crops. Thoroughly mix \\nliberal amounts of (un-composted) organics in the soil']]\n"
     ]
    }
   ],
   "source": [
    "user_query = input(\"What do you want to know about pdf file?\\n\\n\")\n",
    "\n",
    "results = collection.query(\n",
    "    query_texts=[user_query],\n",
    "    n_results=2\n",
    ")\n",
    "\n",
    "print(\"Documents: \", results[\"documents\"])"
   ]
  },
  {
   "cell_type": "code",
   "execution_count": 19,
   "metadata": {},
   "outputs": [
    {
     "name": "stdout",
     "output_type": "stream",
     "text": [
      "Most Florida soils benefit from the addition of organic matter, such as animal manure, rotted leaves, compost, commerical soil mixes, and cover crops. Thoroughly mix liberal amounts of (un-composted) organics in the soil\n",
      "rework the soil into a smooth, firm surface.\n",
      "\n"
     ]
    }
   ],
   "source": [
    "system_prompt = \"\"\"\n",
    "You are a helpful assistant. You answer questions about Florida Vegetable Gardening Guide. \n",
    "But you only answer based on knowledge I'm providing you. You don't use your internal \n",
    "knowledge and you don't make thins up.\n",
    "If you don't know the answer, just say: I don't know\n",
    "--------------------\n",
    "The data:\n",
    "\"\"\"+str(results['documents'])+\"\"\"\n",
    "\"\"\"\n",
    "\n",
    "api_key = os.getenv(\"GEMINI_API_KEY\")\n",
    "\n",
    "llm = ChatGoogleGenerativeAI(\n",
    "    api_key=api_key,\n",
    "    model=\"gemini-2.0-flash-exp\",\n",
    "    temperature=0.6,\n",
    "    max_tokens=None,\n",
    "    timeout=None,\n",
    "    max_retries=2,\n",
    ")\n",
    "\n",
    "messages = [\n",
    "    {\"role\":\"system\",\"content\":system_prompt},\n",
    "    {\"role\":\"user\",\"content\":user_query}\n",
    "]\n",
    "    \n",
    "\n",
    "response = llm.invoke(messages)\n",
    "\n",
    "print(response.content)"
   ]
  },
  {
   "cell_type": "code",
   "execution_count": null,
   "metadata": {},
   "outputs": [],
   "source": []
  }
 ],
 "metadata": {
  "kernelspec": {
   "display_name": "Python 3",
   "language": "python",
   "name": "python3"
  },
  "language_info": {
   "codemirror_mode": {
    "name": "ipython",
    "version": 3
   },
   "file_extension": ".py",
   "mimetype": "text/x-python",
   "name": "python",
   "nbconvert_exporter": "python",
   "pygments_lexer": "ipython3",
   "version": "3.12.2"
  }
 },
 "nbformat": 4,
 "nbformat_minor": 2
}
