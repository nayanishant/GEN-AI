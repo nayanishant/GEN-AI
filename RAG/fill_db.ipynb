{
 "cells": [
  {
   "cell_type": "code",
   "execution_count": 11,
   "metadata": {},
   "outputs": [],
   "source": [
    "from langchain_community.document_loaders import PyPDFDirectoryLoader\n",
    "from langchain_text_splitters import RecursiveCharacterTextSplitter\n",
    "import chromadb"
   ]
  },
  {
   "cell_type": "code",
   "execution_count": 12,
   "metadata": {},
   "outputs": [],
   "source": [
    "# Setting the environment\n",
    "DATA_PATH = r\"data\"\n",
    "CHROMA_PATH = r\"chroma_db\"\n",
    "\n",
    "chroma_client = chromadb.PersistentClient(path=CHROMA_PATH)\n",
    "\n",
    "collection = chroma_client.get_or_create_collection(name=\"vegetable_gardening\")"
   ]
  },
  {
   "cell_type": "code",
   "execution_count": 13,
   "metadata": {},
   "outputs": [],
   "source": [
    "# Loading the document\n",
    "loader = PyPDFDirectoryLoader(DATA_PATH)\n",
    "\n",
    "raw_document = loader.load()"
   ]
  },
  {
   "cell_type": "code",
   "execution_count": null,
   "metadata": {},
   "outputs": [],
   "source": [
    "# Splitting the document\n",
    "text_splitter = RecursiveCharacterTextSplitter(\n",
    "    chunk_size = 300,\n",
    "    chunk_overlap = 100,\n",
    "    length_function = len,\n",
    "    is_separator_regex = False\n",
    ")\n",
    "\n",
    "chunks = text_splitter.split_documents(raw_document)\n",
    "\n",
    "print(\"Number of document chunks: \", {len(chunks)})\n",
    "print(\"Sample chunk 0:\\n\", {chunks[0].page_content})"
   ]
  },
  {
   "cell_type": "code",
   "execution_count": null,
   "metadata": {},
   "outputs": [],
   "source": [
    "# Preparing to added in chromadb\n",
    "documents = []\n",
    "metadata = []\n",
    "ids = []\n",
    "\n",
    "i = 0\n",
    "\n",
    "for chunk in chunks:\n",
    "    documents.append(chunk.page_content)\n",
    "    ids.append(\"ID\"+str(i))\n",
    "    metadata.append(chunk.metadata)\n",
    "\n",
    "    i += 1\n",
    "\n",
    "\n",
    "print(\"IDs: \", ids)\n",
    "print(\"Documents: \", documents) \n",
    "print(\"Metadata: \", metadata)"
   ]
  },
  {
   "cell_type": "code",
   "execution_count": 16,
   "metadata": {},
   "outputs": [],
   "source": [
    "# Adding to chromadb\n",
    "collection.upsert(\n",
    "    documents = documents,\n",
    "    metadatas = metadata,\n",
    "    ids = ids\n",
    ")"
   ]
  },
  {
   "cell_type": "code",
   "execution_count": null,
   "metadata": {},
   "outputs": [],
   "source": []
  }
 ],
 "metadata": {
  "kernelspec": {
   "display_name": "Python 3",
   "language": "python",
   "name": "python3"
  },
  "language_info": {
   "codemirror_mode": {
    "name": "ipython",
    "version": 3
   },
   "file_extension": ".py",
   "mimetype": "text/x-python",
   "name": "python",
   "nbconvert_exporter": "python",
   "pygments_lexer": "ipython3",
   "version": "3.12.2"
  }
 },
 "nbformat": 4,
 "nbformat_minor": 2
}
